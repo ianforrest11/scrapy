{
 "cells": [
  {
   "cell_type": "code",
   "execution_count": 1,
   "metadata": {},
   "outputs": [],
   "source": [
    "import scrapy"
   ]
  },
  {
   "cell_type": "code",
   "execution_count": 2,
   "metadata": {},
   "outputs": [],
   "source": [
    "class JobSpider(scrapy.Spider):\n",
    "    name = 'jobs'\n",
    "    page_number = 10\n",
    "    start_urls = [\n",
    "        'https://www.indeed.com/jobs?q=data+science&l=New+York,+NY&start=0',\n",
    "    ]\n",
    "\n",
    "    def parse(self, response):\n",
    "        for job in response.css('div.jobsearch-SerpJobCard'):\n",
    "            yield {\n",
    "                'job_title': job.css('a.jobtitle::text').extract(),\n",
    "                'company': job.css('span.company::text').extract(),\n",
    "                'location': job.css('div.accessible-contrast-color-location::text').extract(),\n",
    "                'rating': job.css('span.ratingsContent::text').extract(),\n",
    "                'date_posted': job.css('span.date::text').extract()\n",
    "            }\n",
    "        \n",
    "        next_page = 'https://www.indeed.com/jobs?q=data+science&l=New+York,+NY&start={}'.format(str(JobSpider.page_number))\n",
    "        JobSpider.page_number += 10\n",
    "        if JobSpider.page_number <= 1093:\n",
    "            yield response.follow(next_page, callback = self.parse)"
   ]
  }
 ],
 "metadata": {
  "kernelspec": {
   "display_name": "Python [conda env:scrapy]",
   "language": "python",
   "name": "conda-env-scrapy-py"
  },
  "language_info": {
   "codemirror_mode": {
    "name": "ipython",
    "version": 3
   },
   "file_extension": ".py",
   "mimetype": "text/x-python",
   "name": "python",
   "nbconvert_exporter": "python",
   "pygments_lexer": "ipython3",
   "version": "3.8.2"
  }
 },
 "nbformat": 4,
 "nbformat_minor": 2
}

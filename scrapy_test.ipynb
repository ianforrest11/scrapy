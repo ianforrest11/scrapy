{
 "cells": [
  {
   "cell_type": "code",
   "execution_count": 1,
   "metadata": {},
   "outputs": [],
   "source": [
    "import scrapy"
   ]
  },
  {
   "cell_type": "code",
   "execution_count": 2,
   "metadata": {},
   "outputs": [],
   "source": [
    "class JobSpider(scrapy.Spider):\n",
    "    name = 'jobs'\n",
    "    start_urls = [\n",
    "        'https://entrylevel.io/',\n",
    "    ]\n",
    "\n",
    "    def parse(self, response):\n",
    "        for job in response.css('div.detals'):\n",
    "            yield {\n",
    "                #'title': quote.xpath('span/small/text()').get(),\n",
    "                'title': job.xpath('h1/text()').get(),\n",
    "                #'text': quote.css('span.text::text').get(),\n",
    "                'location': job.css('p[1]/text()').get(),\n",
    "            }\n",
    "\n",
    "#         next_page = response.css('li.next a::attr(\"href\")').get()\n",
    "#         next_page = response.css('div.pagination a::attr(\"href\")').get()\n",
    "    \n",
    "#         if next_page is not None:\n",
    "#             yield response.follow(next_page, self.parse)"
   ]
  },
  {
   "cell_type": "code",
   "execution_count": null,
   "metadata": {},
   "outputs": [],
   "source": [
    "//*[@id=\"root\"]/div/div[4]/div/div/ul[1]/li[1]/div/div[1]/div[2]/h1\n",
    "/html/body/div/div[2]/div[1]/div[1]/span[1]/text()\n",
    "/html/body/div/div[2]/div[1]/div[1]/span[1]/text()"
   ]
  }
 ],
 "metadata": {
  "kernelspec": {
   "display_name": "Python [conda env:scrapy]",
   "language": "python",
   "name": "conda-env-scrapy-py"
  },
  "language_info": {
   "codemirror_mode": {
    "name": "ipython",
    "version": 3
   },
   "file_extension": ".py",
   "mimetype": "text/x-python",
   "name": "python",
   "nbconvert_exporter": "python",
   "pygments_lexer": "ipython3",
   "version": "3.8.2"
  }
 },
 "nbformat": 4,
 "nbformat_minor": 2
}

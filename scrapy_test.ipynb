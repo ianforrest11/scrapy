{
 "cells": [
  {
   "cell_type": "code",
   "execution_count": 1,
   "metadata": {},
   "outputs": [],
   "source": [
    "import scrapy"
   ]
  },
  {
   "cell_type": "code",
   "execution_count": 2,
   "metadata": {},
   "outputs": [],
   "source": [
    "class JobSpider(scrapy.Spider):\n",
    "    name = 'jobs'\n",
    "    start_urls = [\n",
    "        'https://entrylevel.io/',\n",
    "    ]\n",
    "\n",
    "    def parse(self, response):\n",
    "        for job in response.css('div.details'):\n",
    "            yield {\n",
    "                #'title': quote.xpath('span/small/text()').get(),\n",
    "                'title': job.xpath('h1/text()').get(),\n",
    "                #'text': quote.css('span.text::text').get(),\n",
    "                'location': job.css('p[1]/text()').get(),\n",
    "            }\n",
    "\n",
    "#         next_page = response.css('li.next a::attr(\"href\")').get()\n",
    "#         next_page = response.css('div.pagination a::attr(\"href\")').get()\n",
    "    \n",
    "#         if next_page is not None:\n",
    "#             yield response.follow(next_page, self.parse)"
   ]
  },
  {
   "cell_type": "code",
   "execution_count": null,
   "metadata": {},
   "outputs": [],
   "source": [
    "class JobSpider(scrapy.Spider):\n",
    "    name = 'jobs'\n",
    "    start_urls = [\n",
    "        'https://www.indeed.com/q-data-science-l-New-York,-NY-jobs.html',\n",
    "    ]\n",
    "\n",
    "    def parse(self, response):\n",
    "        job_title = response.css('a.jobtitle::text').extract()\n",
    "        job_company = response.css('a.companyName::text').extract()\n",
    "        job_location = response.css('div.accessible-contrast-color-location::text').extract()\n",
    "        job_rating = response.css('a.ratingNumber::text').extract()"
   ]
  },
  {
   "cell_type": "code",
   "execution_count": null,
   "metadata": {},
   "outputs": [],
   "source": [
    "//*[@id=\"root\"]/div/div[4]/div/div/ul[1]/li[1]/div/div[1]/div[2]/h1\n",
    "/html/body/div/div[2]/div[1]/div[1]/span[1]/text()\n",
    "/html/body/div/div[2]/div[1]/div[1]/span[1]/text()"
   ]
  },
  {
   "cell_type": "code",
   "execution_count": null,
   "metadata": {},
   "outputs": [],
   "source": [
    "font: 10px Arial,sans-serif;\n",
    "unicode-bidi: embed;\n",
    "margin: 0;\n",
    "cursor: pointer;\n",
    "-webkit-font-smoothing: antialiased;\n",
    "box-sizing: border-box;\n",
    "font-family: 'Noto Sans','Helvetica Neue',Helvetica,Arial,sans-serif !important;\n",
    "font-weight: 700;\n",
    "float: none;\n",
    "margin-bottom: 0;\n",
    "margin-right: 0 !important;\n",
    "font-size: 1.125rem !important;\n",
    "color: #2d2d2d !important;\n",
    "text-decoration: none;\n",
    "line-height: 1.625rem !important;"
   ]
  },
  {
   "cell_type": "code",
   "execution_count": null,
   "metadata": {},
   "outputs": [],
   "source": [
    "document.querySelector(\"#sja0\")\n",
    "/html/body/table[2]/tbody/tr/td/table/tbody/tr/td[2]/div[5]/div[2]/a\n",
    "document.querySelector(\"#pj_ca4615dcd3699361 > div.sjcl > div:nth-child(1) > span.company > a\")\n",
    "\n",
    "document.querySelector(\"#sja0\")\n",
    "\n",
    "document.querySelector(\"#pj_ca4615dcd3699361 > div.sjcl > div.location.accessible-contrast-color-location\")\n"
   ]
  }
 ],
 "metadata": {
  "kernelspec": {
   "display_name": "Python [conda env:scrapy]",
   "language": "python",
   "name": "conda-env-scrapy-py"
  },
  "language_info": {
   "codemirror_mode": {
    "name": "ipython",
    "version": 3
   },
   "file_extension": ".py",
   "mimetype": "text/x-python",
   "name": "python",
   "nbconvert_exporter": "python",
   "pygments_lexer": "ipython3",
   "version": "3.8.2"
  }
 },
 "nbformat": 4,
 "nbformat_minor": 2
}
